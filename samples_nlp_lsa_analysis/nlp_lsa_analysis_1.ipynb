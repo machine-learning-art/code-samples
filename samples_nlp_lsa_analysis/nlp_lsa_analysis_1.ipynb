{
 "cells": [
  {
   "cell_type": "markdown",
   "metadata": {},
   "source": [
    "#Finding documents with similar content and topics using LSA"
   ]
  },
  {
   "cell_type": "code",
   "execution_count": 7,
   "metadata": {
    "collapsed": true
   },
   "outputs": [],
   "source": [
    "from docx import *\n",
    "import re, glob, os\n",
    "import numpy as np\n",
    "import scipy as sp\n",
    "from bs4 import BeautifulSoup\n",
    "import zipfile\n",
    "import sklearn\n",
    "import tempfile\n",
    "\n",
    "import pandas as pd\n",
    "import seaborn as sns\n",
    "\n",
    "from sklearn.feature_extraction.text import CountVectorizer\n",
    "from sklearn.feature_extraction.text import TfidfVectorizer\n",
    "from sklearn.metrics.pairwise import euclidean_distances\n",
    "from sklearn.metrics.pairwise import cosine_similarity\n",
    "from sklearn.manifold import MDS\n",
    "from mpl_toolkits.mplot3d import Axes3D\n",
    "from scipy.cluster.hierarchy import ward, dendrogram\n",
    "from IPython.display import display, HTML"
   ]
  },
  {
   "cell_type": "code",
   "execution_count": 2,
   "metadata": {
    "collapsed": false
   },
   "outputs": [
    {
     "name": "stdout",
     "output_type": "stream",
     "text": [
      "Populating the interactive namespace from numpy and matplotlib\n"
     ]
    },
    {
     "name": "stderr",
     "output_type": "stream",
     "text": [
      "WARNING: pylab import has clobbered these variables: ['text', 'shape']\n",
      "`%matplotlib` prevents importing * from pylab and numpy\n"
     ]
    }
   ],
   "source": [
    "%pylab -- inline"
   ]
  },
  {
   "cell_type": "markdown",
   "metadata": {},
   "source": [
    "## Code to extract text from docx"
   ]
  },
  {
   "cell_type": "code",
   "execution_count": 12,
   "metadata": {
    "collapsed": true
   },
   "outputs": [],
   "source": [
    "#returns all the text except the header info 'TEKS302A-th001'\n",
    "def getText(docpath):\n",
    "    text = ''\n",
    "    try:\n",
    "        doc = Document(docpath)\n",
    "        for par in doc.paragraphs[1:]:\n",
    "            style = par.style\n",
    "            #text += '' + par.text\n",
    "            for run in par.runs:\n",
    "                if not run.strike:\n",
    "                    for t in run._r.t_lst:\n",
    "                        if t.text is None:\n",
    "                            pass\n",
    "                        else:\n",
    "                            text += '' + t.text    #why add white spaces?\n",
    "            text = text.replace(u'\\u2019',\"'\")\n",
    "            text = text.encode('ascii','ignore')\n",
    "            text = re.sub('^ ','',text)\n",
    "            text = text + ' ' #insert white space after each paragraph to avoid sticking words together\n",
    "            #text = text.replace(' ', ' ')\n",
    "    except:\n",
    "        pass\n",
    "    return text\n",
    "#print getText('Sample lesson scripts\\\\TEKS402A-th001.docx')\n",
    "\n",
    "\n",
    "#Extracting problem statement text by extracting text in the first 1x1 table in the script\n",
    "#extracts text outside of tables by calling getText\n",
    "def getText4(docpath):\n",
    "    doc = Document(docpath)\n",
    "    text = ''\n",
    "    for tab in doc.tables:\n",
    "        #if len(tab.rows)==1 and len(tab.columns)==1: #1x1 table to exclude other tables\n",
    "        if len(tab.columns)==1: #1x1 table to exclude other tables\n",
    "            for row in tab.rows:\n",
    "                for cell in row.cells:\n",
    "                    for par in cell.paragraphs:\n",
    "                        for run in par.runs:\n",
    "                            if not run.strike:\n",
    "                                for t in run._r.t_lst:\n",
    "                                    if t.text is None:\n",
    "                                        pass\n",
    "                                    else:\n",
    "                                        text += ' ' + t.text    #why add white spaces?\n",
    "                        #text += ' ' + par.text\n",
    "                        #style = par.style\n",
    "            break #stop after finding the first 1x1 table\n",
    "            \n",
    "    text += getText(docpath) #adding text outside tables\n",
    "    \n",
    "    text = text.replace(u'\\u2019',\"'\")\n",
    "    text = text.encode('ascii','ignore')\n",
    "    text = re.sub('^ ','',text)\n",
    "    return text"
   ]
  },
  {
   "cell_type": "markdown",
   "metadata": {},
   "source": [
    "## Code to process text"
   ]
  },
  {
   "cell_type": "code",
   "execution_count": 13,
   "metadata": {
    "collapsed": true
   },
   "outputs": [],
   "source": [
    "def removeBracketed(text):\n",
    "    '''Remove text enclosed in square brackets.  Regexes can't really handle\n",
    "    nested brackets, so this does it manually.'''\n",
    "    bc = 0\n",
    "    temp = ''\n",
    "    for char in text:\n",
    "        if char == '[':\n",
    "            bc += 1\n",
    "        if bc == 0: temp += char\n",
    "        if char == ']':\n",
    "            bc -= 1\n",
    "    return temp\n",
    "\n",
    "#removes all punctuations\n",
    "def remove_punc(text):\n",
    "    punc = '!@#$%^&*()_-+={}[]:;\"\\'|<>,.?/~`'\n",
    "    for char in punc:\n",
    "        text = text.replace(char, ' ')\n",
    "        text = text.replace('  ', ' ')\n",
    "    return text\n",
    "\n",
    "#removes digits\n",
    "def remove_digits(text):\n",
    "    digits = '0123456789'\n",
    "    for char in digits:\n",
    "        text = text.replace(char, '')\n",
    "        text = text.replace('  ', ' ')\n",
    "    return text"
   ]
  },
  {
   "cell_type": "code",
   "execution_count": 14,
   "metadata": {
    "collapsed": true
   },
   "outputs": [],
   "source": [
    "def clean_text(text):\n",
    "    text = text.lower()\n",
    "    text = removeBracketed(text)\n",
    "    text = remove_punc(text)\n",
    "    text = remove_digits(text)\n",
    "    return text"
   ]
  },
  {
   "cell_type": "markdown",
   "metadata": {},
   "source": [
    "## Building a corpus"
   ]
  },
  {
   "cell_type": "code",
   "execution_count": 15,
   "metadata": {
    "collapsed": true
   },
   "outputs": [],
   "source": [
    "#returns the paths of theory and problem scripts in a lesson folder\n",
    "#lessonpath is the lesson's folder path\n",
    "#for example: lessonpath = 'C:/Users/eabalo/Documents/STAAR2014/3g/308A/'\n",
    "\n",
    "def scriptpaths(lessonpath):\n",
    "    #paths of docx files needed to create corpus\n",
    "    paths = []\n",
    "\n",
    "    for i in glob.glob(lessonpath + 'Scripts/*.docx'): #append theory scripts\n",
    "        if '~' in i: #ignore corrupted files\n",
    "            pass\n",
    "        else:\n",
    "            paths.append(i)\n",
    "        \n",
    "    for i in glob.glob(lessonpath + 'Problems/*.docx'): #append problem scripts\n",
    "        if '~' in i: #ignore corrupted files\n",
    "            pass\n",
    "        else:\n",
    "            paths.append(i)\n",
    "    return paths"
   ]
  },
  {
   "cell_type": "markdown",
   "metadata": {},
   "source": [
    "## Creating corpus"
   ]
  },
  {
   "cell_type": "code",
   "execution_count": 19,
   "metadata": {
    "collapsed": true
   },
   "outputs": [],
   "source": [
    "#creates a folder with text files built from text extracted from theory and problem scripts in a given lesson\n",
    "#input: lesson path in SVN folder; for example \n",
    "    #lessonpath = 'C:/Users/eabalo/Documents/STAAR2014/3g/308B/'\n",
    "#output: named files containing text extracted from corresponding docx file\n",
    "#calls scriptpaths(), getText4(), clean_text()\n",
    "\n",
    "def corpusText(lessonpath):\n",
    "    #corpus path to store processed txt files\n",
    "    corpuspath = 'C:/Users/eabalo/Desktop/STAAR35Analyses/data/corpus/'\n",
    "\n",
    "    #lesson number\n",
    "    lesson = lessonpath.split('/')[-2]\n",
    "\n",
    "    #path for folder of corpus (txt files)\n",
    "    newpath = corpuspath + lesson + '/'\n",
    "\n",
    "    #create folder\n",
    "    if not os.path.exists(newpath): \n",
    "        os.makedirs(newpath)\n",
    "    \n",
    "    #paths of docx files in SVN folder (theory and problem) \n",
    "    filepaths = scriptpaths(lessonpath)\n",
    "\n",
    "    #creating corpus of text from lesson scripts\n",
    "    #extracting text from docx files\n",
    "    for i in filepaths:\n",
    "        textfilename = i.split('\\\\')[-1].replace('docx', 'txt')\n",
    "        text = getText4(i)\n",
    "        text = clean_text(text)\n",
    "        with open(newpath + textfilename, 'wb') as f:\n",
    "            f.write(text)"
   ]
  },
  {
   "cell_type": "markdown",
   "metadata": {},
   "source": [
    "## Test on Lesson 405B"
   ]
  },
  {
   "cell_type": "code",
   "execution_count": 30,
   "metadata": {
    "collapsed": true
   },
   "outputs": [],
   "source": [
    "lessonpath = 'C:/Users/eabalo/Documents/STAAR2014/4g/405B/'\n",
    "\n",
    "#lesson number\n",
    "lessonname = lessonpath.split('/')[-2]\n",
    "\n",
    "#creating corpus of txt files\n",
    "corpusText(lessonpath)"
   ]
  },
  {
   "cell_type": "code",
   "execution_count": 31,
   "metadata": {
    "collapsed": false
   },
   "outputs": [],
   "source": [
    "corpuspath = 'C:/Users/eabalo/Desktop/STAAR35Analyses/data/corpus'\n",
    "\n",
    "filepaths = glob.glob(corpuspath + '/'+ lessonname + '/*.txt')\n",
    "\n",
    "#script names\n",
    "docindex = [w.split('-')[-1].split('.')[0] for w in filepaths]\n",
    "\n",
    "#building a document-term matrix\n",
    "vectorizer = CountVectorizer(input = 'filename')\n",
    "\n",
    "dtm = vectorizer.fit_transform(filepaths)\n",
    "\n",
    "#lexicon of words in lesson\n",
    "vocab = vectorizer.get_feature_names()\n",
    "\n",
    "#converting to numpy arrays\n",
    "dtm = dtm.toarray()\n",
    "\n",
    "vocab = np.array(vocab)"
   ]
  },
  {
   "cell_type": "code",
   "execution_count": 32,
   "metadata": {
    "collapsed": false
   },
   "outputs": [
    {
     "data": {
      "image/png": "[encoded data removed]",
      "text/plain": [
       "<matplotlib.figure.Figure at 0x18726390>"
      ]
     },
     "metadata": {},
     "output_type": "display_data"
    }
   ],
   "source": [
    "#Latent semantic analysis\n",
    "\n",
    "#SVD\n",
    "Umat, Smat, Vmat = np.linalg.svd(dtm)\n",
    "\n",
    "#Reduction to subspace of dimension 3\n",
    "ndim = 3\n",
    "\n",
    "#'Re-construction' of document-term matrix using reduced SVD matrices\n",
    "Smatd = np.zeros((ndim, ndim), dtype = complex)\n",
    "Smatd[:ndim, :ndim] = np.diag(Smat)[:ndim, :ndim]\n",
    "\n",
    "Vmatd = Vmat[:ndim,:]\n",
    "Umatd = Umat[:,:ndim]\n",
    "\n",
    "dtm = np.dot(Umatd, np.dot(Smatd, Vmatd))\n",
    "\n",
    "#distance metric based on cosine similarity\n",
    "dist = 1 - cosine_similarity(dtm)\n",
    "\n",
    "np.round(dist, 2)\n",
    "\n",
    "#linkage matrix\n",
    "linkage_matrix = ward(dist)\n",
    "\n",
    "#dendrogram\n",
    "dendrogram(linkage_matrix, orientation='right', labels = docindex);"
   ]
  },
  {
   "cell_type": "markdown",
   "metadata": {},
   "source": [
    "Some observations about LSA's accuracy:\n",
    "\n",
    "- Problem item 4 (**pr004**) and problem item 10 (**pr010**) are indeed similar. They are multiple choice problems that ask students to pick a table corresponding to a given number sentence.\n",
    "\n",
    "- Theory item 3 (**th003**) and theory item 4 (**th004**) are similar. Both introduce students to the task of matching a number sentence with a table. However in theory item 3, we gradually show how a number sentence matches one single table. In theory item 4, we increase the complexity, and generalize it to matching a number sentence to one out of four tables. Problem item 7 (**pr007**) is similar to  theory items 3 and 4 because it also asks students to select a table that matches a given number sentence, but it is not clear that it is a better match that another problem of the same type.\n",
    "\n",
    "- Theory items 9 (**th009**) and 10 (**th010**) are indeed similar. Theory item 10 is a continuation of the content shown in theory item 9.\n",
    "\n",
    "- Theory items 5 (**th005**) and 6 (**th006**) show students how to match a number sentence to one out of four tables. The tables are 'vertical' (5 rows by 2 columns) and the number sentence involves the operation of division. In fact, theory item 6 is a continuation of theory item 5, so this is clear match. It is interesting to observe that problem item 3 (**pr003**) follows right after theory item 6 in the lesson and it also has a number sentence with a division and tables given as answer choices with 5 rows and 2 columns each. LSA made a great match."
   ]
  },
  {
   "cell_type": "code",
   "execution_count": 33,
   "metadata": {
    "collapsed": false
   },
   "outputs": [
    {
     "data": {
      "image/png": "[encoded data removed]",
      "text/plain": [
       "<matplotlib.figure.Figure at 0x1c278550>"
      ]
     },
     "metadata": {},
     "output_type": "display_data"
    }
   ],
   "source": [
    "#document names\n",
    "docindex = [w.split('-')[-1].split('.')[0] for w in filepaths]\n",
    "\n",
    "#multi-dimensional scaling\n",
    "mds = MDS(n_components=2, dissimilarity = 'precomputed', random_state = 1)\n",
    "\n",
    "pos = mds.fit_transform(dist)\n",
    "\n",
    "xs, ys = pos[:, 0], pos[:, 1]\n",
    "\n",
    "for x, y, name in zip(xs, ys, docindex):\n",
    "    color = 'orange' if 'th' in name else 'skyblue'\n",
    "    scatter(x, y, c=color)\n",
    "    plt.text(x, y, name)"
   ]
  },
  {
   "cell_type": "markdown",
   "metadata": {
    "collapsed": true
   },
   "source": [
    "##References\n",
    "\n",
    "- https://en.wikipedia.org/wiki/Latent_semantic_analysis\n",
    "- http://www.puffinwarellc.com/index.php/news-and-articles/articles/33-latent-semantic-analysis-tutorial.html?start=2\n",
    "- https://de.dariah.eu/tatom/working_with_text.html"
   ]
  },
  {
   "cell_type": "code",
   "execution_count": null,
   "metadata": {
    "collapsed": true
   },
   "outputs": [],
   "source": []
  }
 ],
 "metadata": {
  "kernelspec": {
   "display_name": "Python 2",
   "language": "python",
   "name": "python2"
  },
  "language_info": {
   "codemirror_mode": {
    "name": "ipython",
    "version": 2
   },
   "file_extension": ".py",
   "mimetype": "text/x-python",
   "name": "python",
   "nbconvert_exporter": "python",
   "pygments_lexer": "ipython2",
   "version": "2.7.8"
  }
 },
 "nbformat": 4,
 "nbformat_minor": 0
}
